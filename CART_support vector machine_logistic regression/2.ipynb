{
 "cells": [
  {
   "cell_type": "markdown",
   "metadata": {},
   "source": [
    "# # Homework 2\n",
    "\n",
    "COMS W4995-Topics in Computer Science: Machine Learning with Applications in Finance\n",
    "\n",
    "Instructor: Germán G. Creamer \n",
    "\n",
    "Minyue Liu ml4368\n",
    "\n",
    "***"
   ]
  },
  {
   "cell_type": "markdown",
   "metadata": {},
   "source": [
    "Predictive modeling: targeting offers\n",
    "\n",
    "You have to build a predictive model for targeting offers to consumers, and conduct some model performance analytics on the result.\n",
    "\n",
    "A financial company keeps records on individuals who had been previously targeted with a direct marketing offer for an identity theft protection (risk management) subscription including their household income, the average amount sold, the frequency of their transactions, and whether or not they bought a subscription in the most recent campaign. This company would like to use data mining techniques to build customer profile models. \n",
    "\n",
    "We will use historical data on past customer responses (contained in the file directMarketing.csv) in order to build a classification model. The model can then be applied to a new set of prospective customers whom the organization may contact in a direct marketing campaign. \n",
    "\n",
    "Using python and the package scikit-learn (http://scikit-learn.org/stable/documentation.html) build predictive models using CART (decision trees), support vector machine, and logistic regression to evaluate whether or not the customer will buy a subscription in this campaign. You may need to pre-process the data. Logistic regression becomes the benchmark that you will use to compare the rest of algorithms.\n",
    "\n",
    "You must randomly split your data set using 70% and 30% of the observations for the training and test data set respectively. "
   ]
  },
  {
   "cell_type": "markdown",
   "metadata": {},
   "source": [
    "1) Compare the different models explored using the test error rate (percent incorrectly classified), the area under the ROC curve and the confusion matrix against the benchmark (logistic regression).\n",
    "\n",
    "2) Use matplotlib to plot the ROC and the precision-recall curves for your models. Discuss and compare the performance of each model according to these curves against the benchmark (logistic regression)."
   ]
  },
  {
   "cell_type": "markdown",
   "metadata": {},
   "source": [
    "confusion matrix:\n",
    "```\n",
    "  |____________ p ______________|___________ n _______________|\n",
    "Y | 1's predicted to be 1's(TP) | 1's predicted to be 0's(FN) |\n",
    "N | 0's predicted to be 1's (FP)| 0's predicted to be 0's(TN) |\n",
    "```"
   ]
  },
  {
   "cell_type": "code",
   "execution_count": 2,
   "metadata": {},
   "outputs": [],
   "source": [
    "import os\n",
    "import numpy as np\n",
    "import pandas as pd\n",
    "import math\n",
    "import matplotlib.pylab as plt\n",
    "import matplotlib.pyplot as pot\n",
    "import seaborn as sns\n",
    "from sklearn.model_selection import train_test_split\n",
    "\n",
    "%matplotlib inline\n",
    "sns.set(style='ticks', palette='Set2')"
   ]
  },
  {
   "cell_type": "code",
   "execution_count": 3,
   "metadata": {},
   "outputs": [
    {
     "name": "stdout",
     "output_type": "stream",
     "text": [
      "3    4666\n",
      "2    2622\n",
      "4    1778\n",
      "1    1108\n",
      "Name: saleSizeCodes, dtype: int64\n"
     ]
    },
    {
     "data": {
      "text/plain": [
       "(10174, 10)"
      ]
     },
     "execution_count": 3,
     "metadata": {},
     "output_type": "execute_result"
    }
   ],
   "source": [
    "# Load data\n",
    "path = \"./directMarketing.csv\"\n",
    "df = pd.read_csv(path)[[\"income\",\"firstDate\",\"lastDate\",\"amount\",\"freqSales\",\"saleSizeCode\",\"starCustomer\",\"lastSale\",\"avrSale\",\"class\"]].dropna()\n",
    "# Transform starCustomer column to a numeric variable\n",
    "df[\"starCustomers\"] = (df.starCustomer == \"X\").astype(int)\n",
    "df = df.drop(\"starCustomer\", axis=\"columns\")##delete the original starCustomer column\n",
    "# Transform saleSizeCode column to a numeric variable\n",
    "df[\"saleSizeCodes\"] = df.saleSizeCode.replace([\"D\",\"E\",\"F\",\"G\"],[1,2,3,4])\n",
    "df = df.drop(\"saleSizeCode\", axis=\"columns\")##delete the original saleSizeCode column\n",
    "print(df[\"saleSizeCodes\"].value_counts())\n",
    "# Take a look at the data\n",
    "df.head(5)\n",
    "df.shape"
   ]
  },
  {
   "cell_type": "code",
   "execution_count": 4,
   "metadata": {},
   "outputs": [
    {
     "data": {
      "text/html": [
       "<div>\n",
       "<style scoped>\n",
       "    .dataframe tbody tr th:only-of-type {\n",
       "        vertical-align: middle;\n",
       "    }\n",
       "\n",
       "    .dataframe tbody tr th {\n",
       "        vertical-align: top;\n",
       "    }\n",
       "\n",
       "    .dataframe thead th {\n",
       "        text-align: right;\n",
       "    }\n",
       "</style>\n",
       "<table border=\"1\" class=\"dataframe\">\n",
       "  <thead>\n",
       "    <tr style=\"text-align: right;\">\n",
       "      <th></th>\n",
       "      <th>income</th>\n",
       "      <th>firstDate</th>\n",
       "      <th>lastDate</th>\n",
       "      <th>amount</th>\n",
       "      <th>freqSales</th>\n",
       "      <th>lastSale</th>\n",
       "      <th>avrSale</th>\n",
       "      <th>starCustomers</th>\n",
       "      <th>saleSizeCodes</th>\n",
       "      <th>class</th>\n",
       "    </tr>\n",
       "  </thead>\n",
       "  <tbody>\n",
       "    <tr>\n",
       "      <td>0</td>\n",
       "      <td>3</td>\n",
       "      <td>9409</td>\n",
       "      <td>9509</td>\n",
       "      <td>0.06</td>\n",
       "      <td>1</td>\n",
       "      <td>50</td>\n",
       "      <td>30.00</td>\n",
       "      <td>0</td>\n",
       "      <td>4</td>\n",
       "      <td>0</td>\n",
       "    </tr>\n",
       "    <tr>\n",
       "      <td>1</td>\n",
       "      <td>2</td>\n",
       "      <td>9201</td>\n",
       "      <td>9602</td>\n",
       "      <td>0.16</td>\n",
       "      <td>4</td>\n",
       "      <td>20</td>\n",
       "      <td>20.55</td>\n",
       "      <td>1</td>\n",
       "      <td>4</td>\n",
       "      <td>1</td>\n",
       "    </tr>\n",
       "    <tr>\n",
       "      <td>2</td>\n",
       "      <td>0</td>\n",
       "      <td>9510</td>\n",
       "      <td>9603</td>\n",
       "      <td>0.20</td>\n",
       "      <td>4</td>\n",
       "      <td>5</td>\n",
       "      <td>8.75</td>\n",
       "      <td>0</td>\n",
       "      <td>2</td>\n",
       "      <td>0</td>\n",
       "    </tr>\n",
       "    <tr>\n",
       "      <td>3</td>\n",
       "      <td>6</td>\n",
       "      <td>9409</td>\n",
       "      <td>9603</td>\n",
       "      <td>0.13</td>\n",
       "      <td>2</td>\n",
       "      <td>25</td>\n",
       "      <td>22.50</td>\n",
       "      <td>0</td>\n",
       "      <td>4</td>\n",
       "      <td>0</td>\n",
       "    </tr>\n",
       "    <tr>\n",
       "      <td>4</td>\n",
       "      <td>0</td>\n",
       "      <td>9310</td>\n",
       "      <td>9511</td>\n",
       "      <td>0.10</td>\n",
       "      <td>1</td>\n",
       "      <td>25</td>\n",
       "      <td>12.50</td>\n",
       "      <td>0</td>\n",
       "      <td>4</td>\n",
       "      <td>0</td>\n",
       "    </tr>\n",
       "  </tbody>\n",
       "</table>\n",
       "</div>"
      ],
      "text/plain": [
       "   income  firstDate  lastDate  amount  freqSales  lastSale  avrSale  \\\n",
       "0       3       9409      9509    0.06          1        50    30.00   \n",
       "1       2       9201      9602    0.16          4        20    20.55   \n",
       "2       0       9510      9603    0.20          4         5     8.75   \n",
       "3       6       9409      9603    0.13          2        25    22.50   \n",
       "4       0       9310      9511    0.10          1        25    12.50   \n",
       "\n",
       "   starCustomers  saleSizeCodes  class  \n",
       "0              0              4      0  \n",
       "1              1              4      1  \n",
       "2              0              2      0  \n",
       "3              0              4      0  \n",
       "4              0              4      0  "
      ]
     },
     "execution_count": 4,
     "metadata": {},
     "output_type": "execute_result"
    }
   ],
   "source": [
    "class_new = df['class']\n",
    "df.drop(labels=['class'], axis=1,inplace = True)\n",
    "df[\"class\"] = class_new\n",
    "df.head(5)"
   ]
  },
  {
   "cell_type": "code",
   "execution_count": 5,
   "metadata": {},
   "outputs": [
    {
     "name": "stdout",
     "output_type": "stream",
     "text": [
      "Index(['income', 'firstDate', 'lastDate', 'amount', 'freqSales', 'lastSale',\n",
      "       'avrSale', 'starCustomers', 'saleSizeCodes'],\n",
      "      dtype='object')\n"
     ]
    },
    {
     "data": {
      "image/png": "[encoded data removed]",
      "text/plain": [
       "<Figure size 1080x1296 with 9 Axes>"
      ]
     },
     "metadata": {
      "needs_background": "light"
     },
     "output_type": "display_data"
    }
   ],
   "source": [
    "predictor_columns = df.columns[:-1]\n",
    "print(predictor_columns)\n",
    "rows = 3\n",
    "cols = 3\n",
    "fig, axs = plt.subplots(ncols=cols, nrows=rows, figsize=(5*cols, 6*rows))\n",
    "axs = axs.flatten()\n",
    "for i in range(len(predictor_columns)):\n",
    "        df.boxplot(predictor_columns[i], by=\"class\", grid=False, ax=axs[i], sym='k.')\n",
    "plt.tight_layout()"
   ]
  },
  {
   "cell_type": "markdown",
   "metadata": {},
   "source": [
    "There's no single feature that can separate the data perfectly. Here I use all the rest of features to predict the class."
   ]
  },
  {
   "cell_type": "code",
   "execution_count": 6,
   "metadata": {},
   "outputs": [
    {
     "name": "stdout",
     "output_type": "stream",
     "text": [
      "(3053, 9)\n"
     ]
    }
   ],
   "source": [
    "#split the dataset\n",
    "X_train, X_test, Y_train, Y_test = train_test_split(df[predictor_columns], df[\"class\"], test_size=.3)\n",
    "print(X_test.shape)"
   ]
  },
  {
   "cell_type": "markdown",
   "metadata": {},
   "source": [
    "### 1. The decision tree model"
   ]
  },
  {
   "cell_type": "code",
   "execution_count": 25,
   "metadata": {},
   "outputs": [
    {
     "name": "stdout",
     "output_type": "stream",
     "text": [
      "The test error rate is 0.423\n",
      "AUC for dt:  0.596371801299397\n"
     ]
    },
    {
     "data": {
      "text/html": [
       "<div>\n",
       "<style scoped>\n",
       "    .dataframe tbody tr th:only-of-type {\n",
       "        vertical-align: middle;\n",
       "    }\n",
       "\n",
       "    .dataframe tbody tr th {\n",
       "        vertical-align: top;\n",
       "    }\n",
       "\n",
       "    .dataframe thead th {\n",
       "        text-align: right;\n",
       "    }\n",
       "</style>\n",
       "<table border=\"1\" class=\"dataframe\">\n",
       "  <thead>\n",
       "    <tr style=\"text-align: right;\">\n",
       "      <th></th>\n",
       "      <th>p</th>\n",
       "      <th>n</th>\n",
       "    </tr>\n",
       "  </thead>\n",
       "  <tbody>\n",
       "    <tr>\n",
       "      <td>Y</td>\n",
       "      <td>783</td>\n",
       "      <td>570</td>\n",
       "    </tr>\n",
       "    <tr>\n",
       "      <td>N</td>\n",
       "      <td>721</td>\n",
       "      <td>979</td>\n",
       "    </tr>\n",
       "  </tbody>\n",
       "</table>\n",
       "</div>"
      ],
      "text/plain": [
       "     p    n\n",
       "Y  783  570\n",
       "N  721  979"
      ]
     },
     "execution_count": 25,
     "metadata": {},
     "output_type": "execute_result"
    }
   ],
   "source": [
    "from sklearn.tree import DecisionTreeClassifier\n",
    "from sklearn import metrics\n",
    "from sklearn.metrics import confusion_matrix\n",
    "from sklearn.metrics import roc_auc_score\n",
    "\n",
    "## decision tree\n",
    "depths = [1,2,3,4,5,6,7,8,9,10]\n",
    "acc_max = 0\n",
    "acclist = []\n",
    "for i in depths:\n",
    "    depth = i \n",
    "    # Plot\n",
    "    decision_tree = DecisionTreeClassifier(max_depth=depth, criterion=\"entropy\")\n",
    "    decision_tree.fit(X_train, Y_train)\n",
    "    acc = metrics.accuracy_score(decision_tree.predict(X_test), Y_test)\n",
    "    if acc > acc_max:\n",
    "        acc_max = acc\n",
    "        depth_max = i\n",
    "        ##confusion matrix for dt\n",
    "        y_test = Y_test\n",
    "        y_pred = decision_tree.predict(X_test)\n",
    "        y_predpro = decision_tree.predict_proba(X_test)\n",
    "        # print(y_test)\n",
    "        # print(y_pred)\n",
    "        \n",
    "        \n",
    "    acclist.append(acc)\n",
    "    \n",
    "\n",
    "\n",
    "\n",
    "##test error rate\n",
    "# print(\"the idea depth is %s and the Accuracy is %.3f\" % (depth_max,acclist[depth_max-1]))\n",
    "\n",
    "dt_error_rate = 1 - acclist[depth_max-1]\n",
    "print(\"The test error rate is %.3f\" % dt_error_rate)\n",
    "\n",
    "\n",
    "## the auc (the area under the ROC curve) for svm\n",
    "auc_score = roc_auc_score(y_test,y_predpro[:,1])\n",
    "print(\"AUC for dt: \",auc_score)\n",
    "\n",
    "\n",
    "##confusion matrix for dt\n",
    "\n",
    "confusion_matrix_dt = pd.DataFrame(metrics.confusion_matrix(y_test, y_pred, labels=[1, 0]).T,\n",
    "                                columns=['p', 'n'], index=['Y', 'N'])\n",
    "confusion_matrix_dt.head(2)\n",
    "\n"
   ]
  },
  {
   "cell_type": "markdown",
   "metadata": {},
   "source": [
    "### 2. The logistic regression model"
   ]
  },
  {
   "cell_type": "code",
   "execution_count": 26,
   "metadata": {},
   "outputs": [
    {
     "name": "stdout",
     "output_type": "stream",
     "text": [
      "The test error rate is 0.416\n",
      "AUC for logistic regression:  0.6106571415326292\n"
     ]
    },
    {
     "data": {
      "text/html": [
       "<div>\n",
       "<style scoped>\n",
       "    .dataframe tbody tr th:only-of-type {\n",
       "        vertical-align: middle;\n",
       "    }\n",
       "\n",
       "    .dataframe tbody tr th {\n",
       "        vertical-align: top;\n",
       "    }\n",
       "\n",
       "    .dataframe thead th {\n",
       "        text-align: right;\n",
       "    }\n",
       "</style>\n",
       "<table border=\"1\" class=\"dataframe\">\n",
       "  <thead>\n",
       "    <tr style=\"text-align: right;\">\n",
       "      <th></th>\n",
       "      <th>p</th>\n",
       "      <th>n</th>\n",
       "    </tr>\n",
       "  </thead>\n",
       "  <tbody>\n",
       "    <tr>\n",
       "      <td>Y</td>\n",
       "      <td>863</td>\n",
       "      <td>628</td>\n",
       "    </tr>\n",
       "    <tr>\n",
       "      <td>N</td>\n",
       "      <td>641</td>\n",
       "      <td>921</td>\n",
       "    </tr>\n",
       "  </tbody>\n",
       "</table>\n",
       "</div>"
      ],
      "text/plain": [
       "     p    n\n",
       "Y  863  628\n",
       "N  641  921"
      ]
     },
     "execution_count": 26,
     "metadata": {},
     "output_type": "execute_result"
    }
   ],
   "source": [
    "##logisticregression\n",
    "from sklearn import linear_model\n",
    "import warnings\n",
    "from sklearn.metrics import confusion_matrix\n",
    "from sklearn import metrics\n",
    "from sklearn.metrics import roc_auc_score\n",
    "\n",
    "warnings.filterwarnings('ignore')\n",
    "lin_model = linear_model.LogisticRegression()\n",
    "\n",
    "lin_model.fit(X_train, Y_train)\n",
    "# print (\"Accuracy = %.3f\" % (metrics.accuracy_score(lin_model.predict(X_test), Y_test)))\n",
    "\n",
    "y_predpro1 = lin_model.predict_proba(X_test)\n",
    "# print(\"prob of y_pred\",y_predpro1)\n",
    "# print(y_pred)\n",
    "\n",
    "acc = metrics.accuracy_score(lin_model.predict(X_test), Y_test)\n",
    "lin_error_rate = 1 - acc\n",
    "print(\"The test error rate is %.3f\" % lin_error_rate)\n",
    "\n",
    "\n",
    "##confusion matrix for logistic regression\n",
    "y_test1 = Y_test\n",
    "y_pred1 = lin_model.predict(X_test)\n",
    "# print(y_test)\n",
    "# print(y_pred)\n",
    "\n",
    "## the auc (the area under the ROC curve) for logistic regression\n",
    "auc_score1 = roc_auc_score(y_test1,y_predpro1[:,1])\n",
    "print(\"AUC for logistic regression: \",auc_score1)\n",
    "\n",
    "##confusion matrix\n",
    "confusion_matrix_lg = pd.DataFrame(metrics.confusion_matrix(y_test1, y_pred1, labels=[1, 0]).T,\n",
    "                                columns=['p', 'n'], index=['Y', 'N'])\n",
    "confusion_matrix_lg.head(2)\n"
   ]
  },
  {
   "cell_type": "markdown",
   "metadata": {},
   "source": [
    "### 3. The SVM model"
   ]
  },
  {
   "cell_type": "code",
   "execution_count": 27,
   "metadata": {},
   "outputs": [
    {
     "name": "stdout",
     "output_type": "stream",
     "text": [
      "The test error rate is 0.466\n",
      "AUC for SVM :  0.5448200108512012\n"
     ]
    },
    {
     "data": {
      "text/html": [
       "<div>\n",
       "<style scoped>\n",
       "    .dataframe tbody tr th:only-of-type {\n",
       "        vertical-align: middle;\n",
       "    }\n",
       "\n",
       "    .dataframe tbody tr th {\n",
       "        vertical-align: top;\n",
       "    }\n",
       "\n",
       "    .dataframe thead th {\n",
       "        text-align: right;\n",
       "    }\n",
       "</style>\n",
       "<table border=\"1\" class=\"dataframe\">\n",
       "  <thead>\n",
       "    <tr style=\"text-align: right;\">\n",
       "      <th></th>\n",
       "      <th>p</th>\n",
       "      <th>n</th>\n",
       "    </tr>\n",
       "  </thead>\n",
       "  <tbody>\n",
       "    <tr>\n",
       "      <td>Y</td>\n",
       "      <td>820</td>\n",
       "      <td>739</td>\n",
       "    </tr>\n",
       "    <tr>\n",
       "      <td>N</td>\n",
       "      <td>684</td>\n",
       "      <td>810</td>\n",
       "    </tr>\n",
       "  </tbody>\n",
       "</table>\n",
       "</div>"
      ],
      "text/plain": [
       "     p    n\n",
       "Y  820  739\n",
       "N  684  810"
      ]
     },
     "execution_count": 27,
     "metadata": {},
     "output_type": "execute_result"
    }
   ],
   "source": [
    "##svm\n",
    "from sklearn.model_selection import cross_val_score\n",
    "from sklearn import svm\n",
    "import warnings\n",
    "from sklearn.metrics import confusion_matrix\n",
    "from sklearn.metrics import roc_auc_score\n",
    "\n",
    "warnings.filterwarnings('ignore')\n",
    "clf = svm.SVC(probability=True)\n",
    "clf.fit(X_train, Y_train)\n",
    "# print (\"Accuracy = %.3f\" % (metrics.accuracy_score(clf.predict(X_test), Y_test)))\n",
    "\n",
    "acc = metrics.accuracy_score(clf.predict(X_test), Y_test)\n",
    "svm_error_rate = 1 - acc\n",
    "print(\"The test error rate is %.3f\" % svm_error_rate)\n",
    "\n",
    "y_predpro2 = clf.predict_proba(X_test)\n",
    "# print(\"prob of y_pred\",y_predpro2)\n",
    "\n",
    "\n",
    "\n",
    "##confusion matrix for svm\n",
    "y_test2 = Y_test\n",
    "y_pred2 = clf.predict(X_test)\n",
    "# print(y_test)\n",
    "# print(y_pred)\n",
    "\n",
    "## the auc (the area under the ROC curve) for svm\n",
    "\n",
    "auc_score2 = roc_auc_score(y_test2,y_predpro2[:,1])\n",
    "print(\"AUC for SVM : \", auc_score2)\n",
    "\n",
    "##confusion matrix\n",
    "confusion_matrix_svm = pd.DataFrame(metrics.confusion_matrix(y_test2, y_pred2, labels=[1, 0]).T,\n",
    "                                columns=['p', 'n'], index=['Y', 'N'])\n",
    "confusion_matrix_svm.head(2)\n"
   ]
  },
  {
   "cell_type": "markdown",
   "metadata": {},
   "source": [
    "### Compare the different models above"
   ]
  },
  {
   "cell_type": "code",
   "execution_count": 28,
   "metadata": {},
   "outputs": [
    {
     "data": {
      "text/html": [
       "<div>\n",
       "<style scoped>\n",
       "    .dataframe tbody tr th:only-of-type {\n",
       "        vertical-align: middle;\n",
       "    }\n",
       "\n",
       "    .dataframe tbody tr th {\n",
       "        vertical-align: top;\n",
       "    }\n",
       "\n",
       "    .dataframe thead th {\n",
       "        text-align: right;\n",
       "    }\n",
       "</style>\n",
       "<table border=\"1\" class=\"dataframe\">\n",
       "  <thead>\n",
       "    <tr style=\"text-align: right;\">\n",
       "      <th></th>\n",
       "      <th>test error rate</th>\n",
       "      <th>auc</th>\n",
       "    </tr>\n",
       "  </thead>\n",
       "  <tbody>\n",
       "    <tr>\n",
       "      <td>dt</td>\n",
       "      <td>0.422863</td>\n",
       "      <td>0.596372</td>\n",
       "    </tr>\n",
       "    <tr>\n",
       "      <td>lg</td>\n",
       "      <td>0.415657</td>\n",
       "      <td>0.610657</td>\n",
       "    </tr>\n",
       "    <tr>\n",
       "      <td>svm</td>\n",
       "      <td>0.466099</td>\n",
       "      <td>0.544820</td>\n",
       "    </tr>\n",
       "  </tbody>\n",
       "</table>\n",
       "</div>"
      ],
      "text/plain": [
       "     test error rate       auc\n",
       "dt          0.422863  0.596372\n",
       "lg          0.415657  0.610657\n",
       "svm         0.466099  0.544820"
      ]
     },
     "execution_count": 28,
     "metadata": {},
     "output_type": "execute_result"
    }
   ],
   "source": [
    "cols = [\"test error rate\", \"auc\"]\n",
    "res = [[dt_error_rate,auc_score],[lin_error_rate,auc_score1],[svm_error_rate,auc_score2]]\n",
    "index = [\"dt\",\"lg\",\"svm\"]\n",
    "ans = pd.DataFrame(res,index,cols)\n",
    "ans.head(3)"
   ]
  },
  {
   "cell_type": "code",
   "execution_count": 29,
   "metadata": {},
   "outputs": [
    {
     "name": "stdout",
     "output_type": "stream",
     "text": [
      "Decision tree confusion matrix\n",
      "     p    n\n",
      "Y  783  570\n",
      "N  721  979\n",
      "Logistic regression confusion matrix\n",
      "     p    n\n",
      "Y  863  628\n",
      "N  641  921\n",
      "Svm confusion matrix\n",
      "     p    n\n",
      "Y  820  739\n",
      "N  684  810\n"
     ]
    }
   ],
   "source": [
    "print(\"Decision tree confusion matrix\")\n",
    "print(confusion_matrix_dt)\n",
    "print(\"Logistic regression confusion matrix\")\n",
    "print(confusion_matrix_lg)\n",
    "print(\"Svm confusion matrix\")\n",
    "print(confusion_matrix_svm)"
   ]
  },
  {
   "cell_type": "markdown",
   "metadata": {},
   "source": [
    "I used the three different models namely, decision tree, logistic regression and support vector machine to predict the class based on the same training and testing dataset. According to the above results, as for test error rate, logistic regression has the best test error rate which is 0.415657 while the decision tree with the test error rate 0.422863 behaves better than the svm. The area under the ROC curve shows that given a positive sample and a negative sample, the probability of the model to assign a larger score to this positive sample. Hence we know that the larger the auc score is, the better the model is. In this case, logistic regression is the best with the auc 0.61 while the svm is the worst one with auc 0.54. But all of them are better than random guessing which is auc = 0.5. With the confusion matrix, the Yp and Nn show that the correct classification. The logistic regression correctly predict the largest numebr of the test data."
   ]
  },
  {
   "cell_type": "code",
   "execution_count": 23,
   "metadata": {},
   "outputs": [
    {
     "data": {
      "image/png": "[encoded data removed]",
      "text/plain": [
       "<Figure size 432x288 with 1 Axes>"
      ]
     },
     "metadata": {
      "needs_background": "light"
     },
     "output_type": "display_data"
    }
   ],
   "source": [
    "from sklearn.metrics import precision_recall_curve\n",
    "\n",
    "def get_pr(test,predpro):\n",
    "    true = test\n",
    "    scores = predpro[:,1]\n",
    "    precision, recall, thresholds = precision_recall_curve(true, scores)\n",
    "    return precision, recall, thresholds\n",
    "\n",
    "\n",
    "plt.figure(1) \n",
    "plt.title('Precision/Recall Curve')# give plot a title\n",
    "plt.xlabel('Recall')# make axis labels\n",
    "plt.ylabel('Precision') \n",
    "\n",
    "precision, recall, thresholds = get_pr(y_test, y_predpro)\n",
    "plt.figure(1)\n",
    "plt.plot(precision, recall,label = \"P-R curve for dt\")\n",
    "\n",
    "\n",
    "precision1, recall1, thresholds1 = get_pr(y_test1, y_predpro1)\n",
    "plt.figure(1)\n",
    "plt.plot(precision1, recall1,label = \"P-R curve for logistic regression\")\n",
    "\n",
    "\n",
    "precision2, recall2, thresholds2 = get_pr(y_test2, y_predpro2)\n",
    "\n",
    "plt.plot(precision2, recall2,label = \"P-R curve for svm\")\n",
    "\n",
    "\n",
    "\n",
    "plt.legend()\n",
    "plt.show()"
   ]
  },
  {
   "cell_type": "markdown",
   "metadata": {},
   "source": [
    "Precision shows that the ratio of true 1's over all predicted 1's. The recall shows the the ratio of predicted 1's over all true 1's. It more reach to the top right corner when the model behaves better. Logistic regression behaves best among the three while the svm behaves the worst."
   ]
  },
  {
   "cell_type": "code",
   "execution_count": 24,
   "metadata": {},
   "outputs": [
    {
     "data": {
      "image/png": "[encoded data removed]",
      "text/plain": [
       "<Figure size 432x288 with 1 Axes>"
      ]
     },
     "metadata": {
      "needs_background": "light"
     },
     "output_type": "display_data"
    }
   ],
   "source": [
    "##plot the roc\n",
    "def get_roc(y_test,y_predpro):\n",
    "    fpr, tpr, threshold_roc = metrics.roc_curve(y_test, y_predpro[:,1])\n",
    "    roc_auc = metrics.auc(fpr, tpr)\n",
    "    return fpr,tpr,roc_auc\n",
    "    \n",
    "\n",
    "fpr,tpr,roc_auc = get_roc(y_test,y_predpro)\n",
    "fpr1,tpr1,roc_auc1 = get_roc(y_test1,y_predpro1)\n",
    "fpr2,tpr2,roc_auc2 = get_roc(y_test2,y_predpro2)\n",
    "\n",
    "plt.plot(fpr, tpr, label = 'AUC = %0.3f for dt' % roc_auc)\n",
    "plt.plot(fpr1, tpr1, label = 'AUC = %0.3f for lg' % roc_auc1)\n",
    "plt.plot(fpr2, tpr2, label = 'AUC = %0.3f for svm' % roc_auc2)\n",
    "\n",
    "\n",
    "\n",
    "plt.title('ROC Curve')# give plot a title\n",
    "plt.ylabel('True Positive Rate')\n",
    "plt.xlabel('False Positive Rate')\n",
    "plt.legend()\n",
    "plt.show()"
   ]
  },
  {
   "cell_type": "markdown",
   "metadata": {},
   "source": [
    "In the ROC curve, it shows that whether a model has a good ability to do the prediciton. True positice means that the number of predicted 1's among true 1's while the false positive means that the number of predicted 1's among true 0's. y=x is the line showing random guessing. In the above chart, all models behave better than random guessing. When the curve reaches the top left corner, it indicates that the model has a good ability since the tpr is 1 while the fpr goes to 0. Logistic regression behaves the best among them and the decision tree behaves almost the same but slightly worse than logistic regression while the svm behaves the worst."
   ]
  },
  {
   "cell_type": "code",
   "execution_count": null,
   "metadata": {},
   "outputs": [],
   "source": []
  }
 ],
 "metadata": {
  "kernelspec": {
   "display_name": "Python 3",
   "language": "python",
   "name": "python3"
  },
  "language_info": {
   "codemirror_mode": {
    "name": "ipython",
    "version": 3
   },
   "file_extension": ".py",
   "mimetype": "text/x-python",
   "name": "python",
   "nbconvert_exporter": "python",
   "pygments_lexer": "ipython3",
   "version": "3.7.4"
  }
 },
 "nbformat": 4,
 "nbformat_minor": 2
}
